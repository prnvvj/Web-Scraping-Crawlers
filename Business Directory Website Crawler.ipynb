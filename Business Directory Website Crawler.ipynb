{
 "cells": [
  {
   "cell_type": "markdown",
   "metadata": {},
   "source": [
    "# YellowPages Business Directory Web Crawler"
   ]
  },
  {
   "cell_type": "code",
   "execution_count": 4,
   "metadata": {},
   "outputs": [],
   "source": [
    "from scrapy import Selector\n",
    "import pandas as pd\n",
    "import requests"
   ]
  },
  {
   "cell_type": "code",
   "execution_count": 5,
   "metadata": {},
   "outputs": [],
   "source": [
    "# PRINTING TOTAL NUMBER OF WEB PAGES FROM \"Berkshire, NY\" ----------\n",
    "\n",
    "all_pages = []\n",
    "for i in range(1,3):\n",
    "    url = \"https://www.yellowpages.com/search?search_terms=Real%20Estate%20Agents&geo_location_terms=Berkshire&page=\"+str(i)\n",
    "    all_pages.append(url)"
   ]
  },
  {
   "cell_type": "code",
   "execution_count": 6,
   "metadata": {},
   "outputs": [
    {
     "data": {
      "text/plain": [
       "['https://www.yellowpages.com/search?search_terms=Real%20Estate%20Agents&geo_location_terms=Berkshire&page=1',\n",
       " 'https://www.yellowpages.com/search?search_terms=Real%20Estate%20Agents&geo_location_terms=Berkshire&page=2']"
      ]
     },
     "execution_count": 6,
     "metadata": {},
     "output_type": "execute_result"
    }
   ],
   "source": [
    "all_pages"
   ]
  },
  {
   "cell_type": "code",
   "execution_count": 7,
   "metadata": {},
   "outputs": [],
   "source": [
    "# GETTING LINKS FOR INNER PAGES ----------\n",
    "\n",
    "pages = []\n",
    "for i in all_pages:\n",
    "    html = requests.get(i).content\n",
    "    sel=Selector(text=html)\n",
    "    links=sel.xpath(\"//a[@class='business-name']/@href\").extract()\n",
    "    pages.extend(links)"
   ]
  },
  {
   "cell_type": "code",
   "execution_count": 8,
   "metadata": {},
   "outputs": [
    {
     "data": {
      "text/plain": [
       "['/newark-valley-ny/mip/emb-realty-8524266',\n",
       " '/richford-ny/mip/maple-valley-realty-12142499',\n",
       " '/candor-ny/mip/tioga-realty-19448453',\n",
       " '/whitney-point-ny/mip/era-decker-real-estate-1187644',\n",
       " '/endicott-ny/mip/mckinney-associates-real-estate-466239195',\n",
       " '/ithaca-ny/mip/forest-city-realty-5164498',\n",
       " '/johnson-city-ny/mip/richard-wallikas-realtor-463000621',\n",
       " '/owego-ny/mip/douglas-r-every-real-estate-4208241',\n",
       " '/owego-ny/mip/emb-realty-16557870',\n",
       " '/owego-ny/mip/century-21-18496231',\n",
       " '/owego-ny/mip/red-carpet-realty-9542369',\n",
       " '/owego-ny/mip/dominion-holdings-469740041',\n",
       " '/owego-ny/mip/realty-solutions-465552950',\n",
       " '/owego-ny/mip/karen-schumacher-and-associates-real-estate-534907665',\n",
       " '/owego-ny/mip/douglas-r-every-real-estate-481002296',\n",
       " '/dryden-ny/mip/joan-portzline-real-estate-453294894',\n",
       " '/endicott-ny/mip/delta-realty-holdings-498573921',\n",
       " '/endicott-ny/mip/mcm-realty-546884531',\n",
       " '/endicott-ny/mip/palmer-jack-p-1834747',\n",
       " '/dryden-ny/mip/raynor-recreation-realty-28772058',\n",
       " '/endicott-ny/mip/innovation-associates-8013307',\n",
       " '/endicott-ny/mip/winstar-development-group-10230957',\n",
       " '/endicott-ny/mip/nora-davis-real-estate-12180558',\n",
       " '/endicott-ny/mip/pettinato-realty-29040908',\n",
       " '/endicott-ny/mip/card-realty-3597457',\n",
       " '/endicott-ny/mip/george-t-decker-real-estate-463010852',\n",
       " '/dryden-ny/mip/goldfarb-mark-466572656',\n",
       " '/endicott-ny/mip/farrell-edward-realtyusa-com-495765811',\n",
       " '/endicott-ny/mip/congdon-company-inc-9029542']"
      ]
     },
     "execution_count": 8,
     "metadata": {},
     "output_type": "execute_result"
    }
   ],
   "source": [
    "pages"
   ]
  },
  {
   "cell_type": "code",
   "execution_count": 11,
   "metadata": {},
   "outputs": [
    {
     "data": {
      "text/plain": [
       "29"
      ]
     },
     "execution_count": 11,
     "metadata": {},
     "output_type": "execute_result"
    }
   ],
   "source": [
    "# APPENDING LINKS WITH THERE FULL PAGES ----------\n",
    "\n",
    "full_link_page = []\n",
    "for i in pages:\n",
    "    full_link_page.append(\"https://www.yellowpages.com\"+i)\n",
    "\n",
    "len(full_link_page)"
   ]
  },
  {
   "cell_type": "code",
   "execution_count": 12,
   "metadata": {},
   "outputs": [],
   "source": [
    "# CHOOSING APPROPIATE TAGS AND EXTRATING THE DATA WITH GIVEN BELOW ATTRIBUTES ----------\n",
    "\n",
    "RealStateAgents_name = []\n",
    "RealStateAgents_address = []\n",
    "RealStateAgents_number = []\n",
    "RealStateAgents_website = []\n",
    "RealStateAgents_ratings = []\n",
    "RealStateAgents_sociallinks = []\n",
    "RealStateAgents_otherlinks = []\n",
    "RealStateAgents_reviews = []\n",
    "\n",
    "for i in full_link_page:\n",
    "    html = requests.get(i).content\n",
    "    sel=Selector(text=html)\n",
    "    name = sel.xpath('//div[@class=\"sales-info\"]/h1/text()').extract()\n",
    "    address = sel.xpath('//h2[@class=\"address\"]/text()').extract()\n",
    "    number = sel.xpath('//p[@class=\"phone\"]/text()').extract()\n",
    "    website = sel.xpath('//a[@class=\"primary-btn website-link\"]/@href').extract()\n",
    "    ratings = sel.xpath('//a[@class=\"yp-ratings\"]/div/@class').extract()\n",
    "    sociallinks = sel.xpath('//dd[@class=\"social-links\"]/a/@href').extract()\n",
    "    otherlinks = sel.xpath('//dd/p/a[@class=\"other-links\"]/@href').extract()\n",
    "    generalinfo = sel.xpath('//dd[@class=\"general-info\"]/text()').extract()\n",
    "    reviews = sel.xpath('//div[@class=\"review-response\"]/p/text()').extract()\n",
    "\n",
    "    RealStateAgents_name.extend(name)\n",
    "    RealStateAgents_address.extend(address)\n",
    "    RealStateAgents_number.extend(number)\n",
    "    RealStateAgents_website.extend(website)\n",
    "    RealStateAgents_ratings.extend(ratings)\n",
    "    RealStateAgents_sociallinks.extend(sociallinks)\n",
    "    RealStateAgents_otherlinks.extend(otherlinks)\n",
    "    RealStateAgents_reviews.extend(reviews)"
   ]
  },
  {
   "cell_type": "code",
   "execution_count": 13,
   "metadata": {},
   "outputs": [],
   "source": [
    "dict_ = {'name':RealStateAgents_name, 'address':RealStateAgents_address, 'number':RealStateAgents_number,'website':RealStateAgents_website, 'ratings':RealStateAgents_ratings, 'sociallinks':RealStateAgents_sociallinks, 'otherlinks':RealStateAgents_otherlinks, 'reviews':RealStateAgents_reviews}"
   ]
  },
  {
   "cell_type": "code",
   "execution_count": 14,
   "metadata": {},
   "outputs": [
    {
     "data": {
      "text/plain": [
       "(29, 8)"
      ]
     },
     "execution_count": 14,
     "metadata": {},
     "output_type": "execute_result"
    }
   ],
   "source": [
    "df = pd.Series(dict_).apply(pd.Series).fillna(\"NA\").T\n",
    "df.shape"
   ]
  },
  {
   "cell_type": "code",
   "execution_count": 18,
   "metadata": {},
   "outputs": [
    {
     "data": {
      "text/html": [
       "<div>\n",
       "<style scoped>\n",
       "    .dataframe tbody tr th:only-of-type {\n",
       "        vertical-align: middle;\n",
       "    }\n",
       "\n",
       "    .dataframe tbody tr th {\n",
       "        vertical-align: top;\n",
       "    }\n",
       "\n",
       "    .dataframe thead th {\n",
       "        text-align: right;\n",
       "    }\n",
       "</style>\n",
       "<table border=\"1\" class=\"dataframe\">\n",
       "  <thead>\n",
       "    <tr style=\"text-align: right;\">\n",
       "      <th></th>\n",
       "      <th>name</th>\n",
       "      <th>address</th>\n",
       "      <th>number</th>\n",
       "      <th>website</th>\n",
       "      <th>ratings</th>\n",
       "      <th>sociallinks</th>\n",
       "      <th>otherlinks</th>\n",
       "      <th>reviews</th>\n",
       "    </tr>\n",
       "  </thead>\n",
       "  <tbody>\n",
       "    <tr>\n",
       "      <th>0</th>\n",
       "      <td>Emb Realty</td>\n",
       "      <td>Newark Valley, NY 13811</td>\n",
       "      <td>(607) 642-8708</td>\n",
       "      <td>http://embrealty.com</td>\n",
       "      <td>rating-stars zero</td>\n",
       "      <td>NA</td>\n",
       "      <td>http://embrealty.com</td>\n",
       "      <td>Doug is an extremely friendly and professional...</td>\n",
       "    </tr>\n",
       "    <tr>\n",
       "      <th>1</th>\n",
       "      <td>Maple Valley Realty</td>\n",
       "      <td>Richford, NY 13835</td>\n",
       "      <td>(607) 849-3227</td>\n",
       "      <td>http://www.eradecker.com</td>\n",
       "      <td>rating-stars zero</td>\n",
       "      <td>NA</td>\n",
       "      <td>http://www.eradecker.com</td>\n",
       "      <td>Rented a house through Douglas and have nothin...</td>\n",
       "    </tr>\n",
       "    <tr>\n",
       "      <th>2</th>\n",
       "      <td>Tioga Realty</td>\n",
       "      <td>Candor, NY 13743</td>\n",
       "      <td>(607) 659-7230</td>\n",
       "      <td>http://mckinneyrealestate.com</td>\n",
       "      <td>rating-stars zero</td>\n",
       "      <td>NA</td>\n",
       "      <td>http://mckinneyrealestate.com</td>\n",
       "      <td>\\t</td>\n",
       "    </tr>\n",
       "    <tr>\n",
       "      <th>3</th>\n",
       "      <td>Era Decker Real Estate</td>\n",
       "      <td>Whitney Point, NY 13862</td>\n",
       "      <td>(607) 692-3665</td>\n",
       "      <td>http://www.ithacahome.com</td>\n",
       "      <td>rating-stars zero</td>\n",
       "      <td>NA</td>\n",
       "      <td>http://www.ithacahome.com</td>\n",
       "      <td>Usually takes Doug ~1 month to return phone ca...</td>\n",
       "    </tr>\n",
       "    <tr>\n",
       "      <th>4</th>\n",
       "      <td>Mckinney Associates Real Estate</td>\n",
       "      <td>Endicott, NY 13760</td>\n",
       "      <td>(607) 953-4357</td>\n",
       "      <td>http://www.realtyusa.com</td>\n",
       "      <td>rating-stars zero</td>\n",
       "      <td>NA</td>\n",
       "      <td>http://www.realtyusa.com</td>\n",
       "      <td>\\t</td>\n",
       "    </tr>\n",
       "  </tbody>\n",
       "</table>\n",
       "</div>"
      ],
      "text/plain": [
       "                              name                  address          number  \\\n",
       "0                       Emb Realty  Newark Valley, NY 13811  (607) 642-8708   \n",
       "1              Maple Valley Realty       Richford, NY 13835  (607) 849-3227   \n",
       "2                     Tioga Realty         Candor, NY 13743  (607) 659-7230   \n",
       "3           Era Decker Real Estate  Whitney Point, NY 13862  (607) 692-3665   \n",
       "4  Mckinney Associates Real Estate       Endicott, NY 13760  (607) 953-4357   \n",
       "\n",
       "                         website              ratings sociallinks  \\\n",
       "0           http://embrealty.com  rating-stars zero            NA   \n",
       "1       http://www.eradecker.com  rating-stars zero            NA   \n",
       "2  http://mckinneyrealestate.com  rating-stars zero            NA   \n",
       "3      http://www.ithacahome.com  rating-stars zero            NA   \n",
       "4       http://www.realtyusa.com  rating-stars zero            NA   \n",
       "\n",
       "                      otherlinks  \\\n",
       "0           http://embrealty.com   \n",
       "1       http://www.eradecker.com   \n",
       "2  http://mckinneyrealestate.com   \n",
       "3      http://www.ithacahome.com   \n",
       "4       http://www.realtyusa.com   \n",
       "\n",
       "                                             reviews  \n",
       "0  Doug is an extremely friendly and professional...  \n",
       "1  Rented a house through Douglas and have nothin...  \n",
       "2                                                 \\t  \n",
       "3  Usually takes Doug ~1 month to return phone ca...  \n",
       "4                                                 \\t  "
      ]
     },
     "execution_count": 18,
     "metadata": {},
     "output_type": "execute_result"
    }
   ],
   "source": [
    "df.head(5)"
   ]
  },
  {
   "cell_type": "code",
   "execution_count": null,
   "metadata": {},
   "outputs": [],
   "source": []
  }
 ],
 "metadata": {
  "kernelspec": {
   "display_name": "Python 3",
   "language": "python",
   "name": "python3"
  },
  "language_info": {
   "codemirror_mode": {
    "name": "ipython",
    "version": 3
   },
   "file_extension": ".py",
   "mimetype": "text/x-python",
   "name": "python",
   "nbconvert_exporter": "python",
   "pygments_lexer": "ipython3",
   "version": "3.7.6"
  }
 },
 "nbformat": 4,
 "nbformat_minor": 4
}
