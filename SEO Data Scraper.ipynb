{
 "cells": [
  {
   "cell_type": "markdown",
   "metadata": {},
   "source": [
    "### Web Scraping Sample Work Portfolio\n",
    "```\n",
    "Here I'm scraping the SEO data from the SpyFu (https://www.spyfu.com/overview/domain?tour=true&query=www.semrush.com)\n",
    "Where selected features are as follow:\n",
    "    - Monthly Domain Overview Data,\n",
    "    - Competition Data,\n",
    "    - Top Keywords Data (Paid & Organic Keywords),\n",
    "    - Google Ads Buy Recommendations Data,\n",
    "    - Inbound Links (Internal & External Links), etc.\n",
    "```\n",
    "```\n",
    "Here for getting the page source I'm using Selenium Chrome Web Browser for, It also can be possible with the request and scrapy module but for getting rid from the blocking issue we are using the below mentioned approach.\n",
    "```"
   ]
  },
  {
   "cell_type": "code",
   "execution_count": 1,
   "metadata": {},
   "outputs": [],
   "source": [
    "# ---------- Importing Dependencies ----------\n",
    "from selenium import webdriver\n",
    "from time import sleep\n",
    "from selenium.webdriver import Chrome\n",
    "from shutil import which\n",
    "from selenium.webdriver.chrome.options import Options\n",
    "from scrapy.selector import Selector"
   ]
  },
  {
   "cell_type": "code",
   "execution_count": 2,
   "metadata": {},
   "outputs": [],
   "source": [
    "# ----- Using Selenium for Getting Complete Page Source -----\n",
    "chrome_options = Options()\n",
    "chrome_path = which(\"chromedriver.exe\")\n",
    "driver = webdriver.Chrome(executable_path = chrome_path, options = chrome_options)\n",
    "driver.maximize_window()\n",
    "url = 'https://www.spyfu.com/overview/domain?tour=true&query=www.semrush.com'\n",
    "driver.get(url)\n",
    "sleep(5)\n",
    "sel = Selector(text=driver.page_source)"
   ]
  },
  {
   "cell_type": "code",
   "execution_count": 3,
   "metadata": {},
   "outputs": [],
   "source": [
    "# ---------- Monthly Domain Overview ----------\n",
    "# Organic Search (SEO) ------\n",
    "total_organic_keywords = sel.xpath('//div[@class=\"sf-figure-trio\"][contains(.,\"Organic Search\")]/div[@class=\"first-row\"]/a[contains(@class,\"left\")]//span/span/text()').get()\n",
    "est_organic_est_monthly_seo_clicks = \"\".join([''.join(i.xpath('.//span/text()').getall()) for i in sel.xpath('//div[@class=\"sf-figure-trio\"][contains(.,\"Organic Search\")]/div[@class=\"first-row\"]/a[contains(@class,\"right\")]')])\n",
    "est_monthly_seo_click_value = \"\".join([''.join(i.xpath('./span/text()').getall()) for i in sel.xpath('//div[@class=\"sf-figure-trio\"][contains(.,\"Organic Search\")]/a/span')])\n",
    "# Paid Search (PPC) ------\n",
    "total_paid_keywords = sel.xpath('//div[@class=\"sf-figure-trio\"][contains(.,\"Paid Search\")]/div[@class=\"first-row\"]/a[contains(@class,\"left\")]//span/span/text()').get()\n",
    "est_paid_monthly_seo_clicks = \"\".join([''.join(i.xpath('.//span/text()').getall()) for i in sel.xpath('//div[@class=\"sf-figure-trio\"][contains(.,\"Paid Search\")]/div[@class=\"first-row\"]/a[contains(@class,\"right\")]')])\n",
    "est_monthly_google_ads_budget = \"\".join([''.join(i.xpath('./span/text()').getall()) for i in sel.xpath('//div[@class=\"sf-figure-trio\"][contains(.,\"Paid Search\")]/a/span')])\n",
    "# ---------- Competition ----------\n",
    "organic_competitors = sel.xpath('//div[@class=\"competitor-panel sf-panel sf-global-component tw-shadow\"]/div[contains(.,\"Organic Competitors\")]/..//div[@class=\"competitors-chart\"]//a/div/label/text()').getall()\n",
    "paid_competitors = sel.xpath('//div[@class=\"competitor-panel sf-panel sf-global-component tw-shadow\"]/div[contains(.,\"Paid Competitors\")]/..//div[@class=\"competitors-chart\"]//a/div/label/text()').getall()\n",
    "# ---------- Top Keywords ----------\n",
    "# Top Organic Keywords ------\n",
    "rank = [i.strip() for i in sel.xpath('//div[@class=\"sf-grid-inner\"]//div[@class=\"sf-panel sf-global-component tw-shadow\"]/div[@class=\"sf-table\"][contains(.,\"Organic Keyword\")]//tbody/tr/td/div/text()').getall()]\n",
    "organic_keyword = sel.xpath('//div[@class=\"sf-grid-inner\"]//div[@class=\"sf-panel sf-global-component tw-shadow\"]/div[@class=\"sf-table\"][contains(.,\"Organic Keyword\")]//tbody/tr/td/div/a/span/text()').getall()\n",
    "seo_click = [''.join(i.xpath('.//span/text()').getall()) for i in sel.xpath('//div[@class=\"sf-grid-inner\"]//div[@class=\"sf-panel sf-global-component tw-shadow\"]/div[@class=\"sf-table\"][contains(.,\"Organic Keyword\")]//tbody/tr/td/div/span')]\n",
    "# Top Paid Keywords ------\n",
    "paid_keywords_ = sel.xpath('//div[@class=\"sf-grid-inner\"]//div[@class=\"sf-panel sf-global-component tw-shadow\"]/div[@class=\"sf-table\"][contains(.,\"Paid Keyword\")]//tbody[@class=\"sf-global-component sf-table-body\"]/tr//a//text()').getall()\n",
    "cost_per_click_ = [''.join(i.xpath('.//span/text()').getall()) for i in sel.xpath('//div[@class=\"sf-grid-inner\"]//div[contains(@class,\"component\")]/div[@class=\"sf-table\"][contains(.,\"Paid Keyword\")]//tbody[contains(@class,\"global-component\")]/tr//td[contains(@class,\"cpc\")]/div/span')]\n",
    "monthly_cost_ = [''.join(i.xpath('.//span/text()').getall()) for i in sel.xpath('//div[@class=\"sf-grid-inner\"]//div[contains(@class,\"component\")]/div[@class=\"sf-table\"][contains(.,\"Paid Keyword\")]//tbody[contains(@class,\"global-component\")]/tr//td[contains(@class,\"monthly-cost-cell\")]/div/span')]\n",
    "# ---------- Top Pages -----------\n",
    "top_page_name = [i.replace('.','') for i in sel.xpath('//table[@class=\"tw-border-none tw-border-collapse tw-w-full\"]/tbody/tr//a[@class=\"tw-font-semibold\"]/text()').getall()]\n",
    "top_page_links = sel.xpath('//table[@class=\"tw-border-none tw-border-collapse tw-w-full\"]/tbody/tr//a[@class=\"url\"]/text()').getall()\n",
    "est_monthly_seo_clicks = [''.join(i.xpath('.//span/text()').getall()) for i in sel.xpath('(//table[@class=\"tw-border-none tw-border-collapse tw-w-full\"]//span[@class=\"sf-metricized-number\"])[position() <= 5]')]\n",
    "# ---------- Top Google Ads Buy Recommendations ----------\n",
    "recommend_keywords = [i.strip().replace('.','_') for i in sel.xpath('//div[@data-test=\"recommendations\"]/div[@class=\"recommendation\"]//a[contains(@href,\"/keyword/\")]/text()').getall()]\n",
    "# recommend_keywords = [i.strip() for i in sel.xpath('//div[@data-test=\"recommendations\"]/div[@class=\"recommendation\"]//a[contains(@href,\"/keyword/\")]/text()').getall()]\n",
    "buying_recommendation = [i.strip() for i in sel.xpath('//div[@data-test=\"recommendations\"]/div[@class=\"recommendation\"]//div[@class=\"progress-meter-cell-inner\"]/div[contains(@style,\"color\")]/text()').getall()]\n",
    "impression_per_month = sel.xpath('//div[@data-test=\"recommendations\"]/div[@class=\"recommendation\"]//span[@class=\"sf-figure-value\"]/text()').getall()\n",
    "# ---------- Inbound Links (Backlinks) ----------\n",
    "# web_name = [i.split('.')[1] for i in sel.xpath('//div[@class=\"overview-backlinks\"]//table//a[contains(@class,\"tw-block\")]/@href').getall()]\n",
    "backlink = [i.replace('.','_') for i in sel.xpath('//div[@class=\"overview-backlinks\"]//table//a[contains(@class,\"tw-block\")]/@href').getall()]\n",
    "domain_monthly_organic_clicks = [''.join(i.xpath('.//span/text()').getall()) for i in sel.xpath('(//div[@class=\"overview-backlinks\"]//table/tbody/tr/td[3]//span[@class=\"sf-metricized-number\"])[position()<=5]')]\n",
    "page_monthly_organic_clicks = [''.join(i.xpath('.//span/text()').getall()) for i in sel.xpath('(//div[@class=\"overview-backlinks\"]//table/tbody/tr/td[4]//span[@class=\"sf-metricized-number\"])[position()<=5]')]\n",
    "domain_strength = [''.join(i.xpath('.//span/text()').getall()) for i in sel.xpath('(//div[@class=\"overview-backlinks\"]//table/tbody/tr/td[5]//span[@class=\"sf-metricized-number\"])[position()<=5]')]\n",
    "ranked_keywords = [''.join(i.xpath('.//span/text()').getall()) for i in sel.xpath('(//div[@class=\"overview-backlinks\"]//table/tbody/tr/td[6]//span[@class=\"sf-metricized-number\"])[position()<=5]')]\n",
    "outbound_links = [''.join(i.xpath('.//span/text()').getall()) for i in sel.xpath('(//div[@class=\"overview-backlinks\"]//table/tbody/tr/td[7]//span[@class=\"sf-metricized-number\"])[position()<=5]')]"
   ]
  },
  {
   "cell_type": "markdown",
   "metadata": {},
   "source": [
    "### Monthly Domain Overview"
   ]
  },
  {
   "cell_type": "code",
   "execution_count": 4,
   "metadata": {},
   "outputs": [],
   "source": [
    "# Function for getting Monthly Domain Overview Data ----------\n",
    "# Paid Domain Overview Data -----\n",
    "def monthly_paid_domain_overview(total_paid_keywords, est_paid_monthly_seo_clicks, est_monthly_google_ads_budget):\n",
    "    final_dict = {}\n",
    "    final_dict['Total Paid Keywords'] = total_paid_keywords\n",
    "    final_dict['Est Paid Monthly SEO Clicks'] = est_paid_monthly_seo_clicks\n",
    "    final_dict['Est Monthly Google Ads Budget'] = est_monthly_google_ads_budget\n",
    "    return final_dict\n",
    "monthly_paid_domain_overviews = monthly_paid_domain_overview(total_paid_keywords, est_paid_monthly_seo_clicks, est_monthly_google_ads_budget)"
   ]
  },
  {
   "cell_type": "code",
   "execution_count": 5,
   "metadata": {},
   "outputs": [],
   "source": [
    "# Function for getting Monthly Domain Overview Data ----------\n",
    "# Organic Domain Overview Data -----\n",
    "def monthly_organic_domain_overview(total_organic_keywords, est_organic_est_monthly_seo_clicks, est_monthly_seo_click_value):\n",
    "    final_dict = {}\n",
    "    final_dict['Total Organic Keywords'] = total_organic_keywords\n",
    "    final_dict['Est Organic Est Monthly SEO Clicks'] = est_organic_est_monthly_seo_clicks\n",
    "    final_dict['Est Monthly SEO Click Value'] = est_monthly_seo_click_value\n",
    "    return final_dict\n",
    "monthly_organic_domain_overviews = monthly_organic_domain_overview(total_organic_keywords, est_organic_est_monthly_seo_clicks, est_monthly_seo_click_value)"
   ]
  },
  {
   "cell_type": "markdown",
   "metadata": {},
   "source": [
    "### Competition"
   ]
  },
  {
   "cell_type": "code",
   "execution_count": 6,
   "metadata": {},
   "outputs": [],
   "source": [
    "# Function for getching Competition data between Organic and Paid Competitors ----------\n",
    "def competition(organic_competitors, paid_competitors):\n",
    "    final_dict = {}\n",
    "    final_dict['Organic Competitors'] = organic_competitors\n",
    "    final_dict['Paid Competitors'] = paid_competitors\n",
    "    return final_dict\n",
    "competitions = competition(organic_competitors, paid_competitors)"
   ]
  },
  {
   "cell_type": "markdown",
   "metadata": {},
   "source": [
    "### Top Keywords"
   ]
  },
  {
   "cell_type": "code",
   "execution_count": 7,
   "metadata": {},
   "outputs": [],
   "source": [
    "# Function for fetching data of Top Organic Keywords of that particular website ----------\n",
    "def top_organic_keywords(organic_keyword,rank,seo_click):\n",
    "    inputs = zip(organic_keyword,rank,seo_click)\n",
    "    final_dict = {}\n",
    "    for organic_keyword, rank, seo_click in inputs:\n",
    "        final_dict.update({\n",
    "            organic_keyword : {\n",
    "                \"Rank\" : rank,\n",
    "                \"SEO Clicks\" : seo_click,\n",
    "                        },\n",
    "                })\n",
    "\n",
    "    return final_dict\n",
    "top_organic_keyword = top_organic_keywords(organic_keyword,rank,seo_click)"
   ]
  },
  {
   "cell_type": "code",
   "execution_count": 8,
   "metadata": {},
   "outputs": [],
   "source": [
    "# Function for fetching data of Top Paid Keywords of that particular website ----------\n",
    "def top_paid_keywords(paid_keywords_, cost_per_click_, monthly_cost_):\n",
    "    inputs = zip(paid_keywords_, cost_per_click_, monthly_cost_)\n",
    "    final_dict = {}\n",
    "    for paid_keywords_, cost_per_click_, monthly_cost_ in inputs:\n",
    "        final_dict.update({\n",
    "            paid_keywords_ : {\n",
    "                \"Rank\" : cost_per_click_,\n",
    "                \"SEO Clicks\" : monthly_cost_,\n",
    "                        },\n",
    "                })\n",
    "\n",
    "    return final_dict\n",
    "top_paid_keyword = top_paid_keywords(paid_keywords_, cost_per_click_, monthly_cost_)"
   ]
  },
  {
   "cell_type": "markdown",
   "metadata": {},
   "source": [
    "### Top Pages"
   ]
  },
  {
   "cell_type": "code",
   "execution_count": 9,
   "metadata": {},
   "outputs": [],
   "source": [
    "# Function for scraping the data of Top SEO pages of that website ----------\n",
    "def top_page(top_page_name, top_page_links, est_monthly_seo_clicks):\n",
    "    inputs = zip(top_page_name, top_page_links, est_monthly_seo_clicks)\n",
    "    final_dict = {}\n",
    "    for top_page_name, top_page_links, est_monthly_seo_clicks in inputs:\n",
    "        final_dict.update({\n",
    "            top_page_name : {\n",
    "                \"Page Link\" : top_page_links,\n",
    "                \"Est Monthly SEO Clicks\" : est_monthly_seo_clicks,\n",
    "                        },\n",
    "                })\n",
    "\n",
    "    return final_dict\n",
    "top_pages = top_page(top_page_name, top_page_links, est_monthly_seo_clicks)"
   ]
  },
  {
   "cell_type": "markdown",
   "metadata": {},
   "source": [
    "### Top Google Ads Buy Recommendations"
   ]
  },
  {
   "cell_type": "code",
   "execution_count": 10,
   "metadata": {},
   "outputs": [],
   "source": [
    "# Function for getting detailed data of Google Ads Buying Recommendations ----------\n",
    "def top_google_ads_buy_recommendation(recommend_keywords, buying_recommendation, impression_per_month):\n",
    "    inputs = zip(recommend_keywords, buying_recommendation, impression_per_month)\n",
    "    final_dict = {}\n",
    "    for recommend_keywords, buying_recommendation, impression_per_month in inputs:\n",
    "        final_dict.update({\n",
    "            recommend_keywords : {\n",
    "                \"Buying Recommendations\" : buying_recommendation,\n",
    "                \"Impression/Month\" : impression_per_month,       \n",
    "                        },\n",
    "                })\n",
    "\n",
    "    return final_dict\n",
    "top_google_ads_buy_recommendations = top_google_ads_buy_recommendation(recommend_keywords, buying_recommendation, impression_per_month)"
   ]
  },
  {
   "cell_type": "markdown",
   "metadata": {},
   "source": [
    "### Inbound Links (Backlinks)"
   ]
  },
  {
   "cell_type": "code",
   "execution_count": 11,
   "metadata": {},
   "outputs": [],
   "source": [
    "# Function for getting complete data of Inbound and Backlinks of website ----------\n",
    "def inbound_link(backlink, domain_monthly_organic_clicks, page_monthly_organic_clicks, domain_strength, ranked_keywords, outbound_links):\n",
    "    inputs = zip(backlink, domain_monthly_organic_clicks, page_monthly_organic_clicks, domain_strength, ranked_keywords, outbound_links)\n",
    "    final_dict = {}\n",
    "    for backlink, domain_monthly_organic_clicks, page_monthly_organic_clicks, domain_strength, ranked_keywords, outbound_links in inputs:\n",
    "        final_dict.update({\n",
    "            backlink : {\n",
    "                \"Domain Monthly Organic Clicks\" : domain_monthly_organic_clicks,\n",
    "                \"Page Monthly Organic Clicks\" : page_monthly_organic_clicks,\n",
    "                \"Domain Strength\" : domain_strength,\n",
    "                \"Ranked Keywords\" : ranked_keywords,\n",
    "                \"Outbound Links\" : outbound_links,\n",
    "                        },\n",
    "                })\n",
    "\n",
    "    return final_dict\n",
    "inbound_links = inbound_link(backlink, domain_monthly_organic_clicks, page_monthly_organic_clicks, domain_strength, ranked_keywords, outbound_links)"
   ]
  },
  {
   "cell_type": "markdown",
   "metadata": {},
   "source": [
    "### Final Results\n",
    "```\n",
    "Here I created a JSON format Schema for storing the data, that will be helpfull for storing and fetching the data from \n",
    "DataBase directly.\n",
    "```"
   ]
  },
  {
   "cell_type": "code",
   "execution_count": 251,
   "metadata": {
    "scrolled": false
   },
   "outputs": [
    {
     "data": {
      "text/plain": [
       "{'Organic Search (SEO)': {'Total Organic Keywords': '684',\n",
       "  'Est Organic Est Monthly SEO Clicks': '405',\n",
       "  'Est Monthly SEO Click Value': '$1.16k'},\n",
       " 'Paid Search (PPC)': {'Total Paid Keywords': '0',\n",
       "  'Est Paid Monthly SEO Clicks': '-',\n",
       "  'Est Monthly Google Ads Budget': '-'},\n",
       " 'Competition': {'Organic Competitors': ['agencyplatform.com',\n",
       "   'rocketdriver.com',\n",
       "   'seoresellerusa.com',\n",
       "   'whitelabelseo.com',\n",
       "   'conduitdigital.us'],\n",
       "  'Paid Competitors': []},\n",
       " 'Top Organic Keywords': {'white label facebook ads': {'Rank': '4',\n",
       "   'SEO Clicks': '24'},\n",
       "  'agency platform': {'Rank': '4', 'SEO Clicks': '24'},\n",
       "  'digital agency white label': {'Rank': '13', 'SEO Clicks': '16'},\n",
       "  'seo reseller': {'Rank': '19', 'SEO Clicks': '16'},\n",
       "  'white label facebook advertising agency': {'Rank': '2',\n",
       "   'SEO Clicks': '14'}},\n",
       " 'Top Paid Keywords': {},\n",
       " 'Top Pages': {'DashClicks: White-Label Solutions for Digital Marketing Agencies': {'Page Link': 'dashclicks.com',\n",
       "   'Est Monthly SEO Clicks': '132'},\n",
       "  'Best White Label Facebook Ads Reseller Services | DashClicks': {'Page Link': 'dashclicks.com/white-label-facebook-ads',\n",
       "   'Est Monthly SEO Clicks': '71'},\n",
       "  'White Label SEO Services | SEO Reseller & Outsourcing Agency ': {'Page Link': 'dashclicks.com/white-label-seo',\n",
       "   'Est Monthly SEO Clicks': '60'},\n",
       "  'White Label Google Ads Reseller & Services | PPC Management ': {'Page Link': 'dashclicks.com/white-label-ppc',\n",
       "   'Est Monthly SEO Clicks': '36'},\n",
       "  'White Label Social Media Posting Services | DashClicks': {'Page Link': 'dashclicks.com/white-label-social-media-posting',\n",
       "   'Est Monthly SEO Clicks': '25'}},\n",
       " 'Top Google Ads Buy Recommendations': {},\n",
       " 'Inbound Links (Backlinks)': {'https://www_ideatomillion_com/gateway---white-label/private-label': {'Domain Monthly Organic Clicks': '60',\n",
       "   'Page Monthly Organic Clicks': '24',\n",
       "   'Domain Strength': '21',\n",
       "   'Ranked Keywords': '122',\n",
       "   'Outbound Links': '16'},\n",
       "  'https://www_g2_com/products/dashclicks/reviews': {'Domain Monthly Organic Clicks': '10M',\n",
       "   'Page Monthly Organic Clicks': '1',\n",
       "   'Domain Strength': '72',\n",
       "   'Ranked Keywords': '1',\n",
       "   'Outbound Links': '2'},\n",
       "  'https://www_trustradius_com/marketing-analytics?f=100': {'Domain Monthly Organic Clicks': '2.9M',\n",
       "   'Page Monthly Organic Clicks': '1',\n",
       "   'Domain Strength': '68',\n",
       "   'Ranked Keywords': '1',\n",
       "   'Outbound Links': '16'},\n",
       "  'https://unitedtechnology_solutions/': {'Domain Monthly Organic Clicks': '1',\n",
       "   'Page Monthly Organic Clicks': '1',\n",
       "   'Domain Strength': '0',\n",
       "   'Ranked Keywords': '1',\n",
       "   'Outbound Links': '16'},\n",
       "  'https://medium_com/@sean_d/seo-reselling-made-simple-white-label-seo-reselling-754aa96d84e2': {'Domain Monthly Organic Clicks': '10M',\n",
       "   'Page Monthly Organic Clicks': '10',\n",
       "   'Domain Strength': '77',\n",
       "   'Ranked Keywords': '1',\n",
       "   'Outbound Links': '4'}}}"
      ]
     },
     "execution_count": 251,
     "metadata": {},
     "output_type": "execute_result"
    }
   ],
   "source": [
    "# All functions sum-up and Returning the Data into JSON format ----------\n",
    "def finalDataInJsonFormat():\n",
    "    final = {}\n",
    "    final['Organic Search (SEO)'] = monthly_organic_domain_overviews\n",
    "    final['Paid Search (PPC)'] = monthly_paid_domain_overviews\n",
    "    final['Competition'] = competitions\n",
    "    final['Top Organic Keywords'] = top_organic_keyword\n",
    "    final['Top Paid Keywords'] = top_paid_keyword\n",
    "    final['Top Pages'] = top_pages\n",
    "    final['Top Google Ads Buy Recommendations'] = top_google_ads_buy_recommendations\n",
    "    final['Inbound Links (Backlinks)'] = inbound_links\n",
    "    final\n",
    "finalDataInJsonFormat()"
   ]
  },
  {
   "cell_type": "markdown",
   "metadata": {},
   "source": [
    "##### Thank You"
   ]
  }
 ],
 "metadata": {
  "kernelspec": {
   "display_name": "Python 3",
   "language": "python",
   "name": "python3"
  },
  "language_info": {
   "codemirror_mode": {
    "name": "ipython",
    "version": 3
   },
   "file_extension": ".py",
   "mimetype": "text/x-python",
   "name": "python",
   "nbconvert_exporter": "python",
   "pygments_lexer": "ipython3",
   "version": "3.7.6"
  }
 },
 "nbformat": 4,
 "nbformat_minor": 4
}
